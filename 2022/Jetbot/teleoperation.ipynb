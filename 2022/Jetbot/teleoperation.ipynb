{
 "cells": [
  {
   "cell_type": "markdown",
   "metadata": {},
   "source": [
    "### Conclusion\n",
    "\n",
    "That's it for this example, have fun!"
   ]
  },
  {
   "cell_type": "code",
   "execution_count": 1,
   "metadata": {},
   "outputs": [
    {
     "data": {
      "application/vnd.jupyter.widget-view+json": {
       "model_id": "4b821c4c3dc54e2c9a854b09f1b49e56",
       "version_major": 2,
       "version_minor": 0
      },
      "text/plain": [
       "Controller()"
      ]
     },
     "metadata": {},
     "output_type": "display_data"
    }
   ],
   "source": [
    "import ipywidgets.widgets as widgets\n",
    "controller = widgets.Controller(index=0)  # replace with index of your controller\n",
    "display(controller)"
   ]
  },
  {
   "cell_type": "code",
   "execution_count": 2,
   "metadata": {
    "scrolled": true
   },
   "outputs": [
    {
     "data": {
      "application/vnd.jupyter.widget-view+json": {
       "model_id": "05f690bbdea349c081d66c7cb95e6ba9",
       "version_major": 2,
       "version_minor": 0
      },
      "text/plain": [
       "HBox(children=(Image(value=b'\\xff\\xd8\\xff\\xe0\\x00\\x10JFIF\\x00\\x01\\x01\\x00\\x00\\x01\\x00\\x01\\x00\\x00\\xff\\xdb\\x00C…"
      ]
     },
     "metadata": {},
     "output_type": "display_data"
    },
    {
     "data": {
      "application/vnd.jupyter.widget-view+json": {
       "model_id": "4b821c4c3dc54e2c9a854b09f1b49e56",
       "version_major": 2,
       "version_minor": 0
      },
      "text/plain": [
       "Controller(axes=(Axis(value=0.003921627998352051), Axis(value=0.003921627998352051), Axis(value=0.003921627998…"
      ]
     },
     "metadata": {},
     "output_type": "display_data"
    }
   ],
   "source": [
    "\n",
    "from jetbot import Robot\n",
    "import traitlets\n",
    "import time\n",
    "robot = Robot()\n",
    "def forward(change):\n",
    "        robot.forward(0.4)\n",
    "controller.buttons[0].observe(forward,names='value')\n",
    "def backward(change):\n",
    "        robot.backward(0.4)\n",
    "controller.buttons[2].observe(backward,names='value')\n",
    "def right(change):\n",
    "        robot.right(0.2)\n",
    "        time.sleep(0.1)\n",
    "        robot.stop()\n",
    "controller.buttons[1].observe(right,names='value')\n",
    "def left(change):\n",
    "        robot.left(0.2)\n",
    "        time.sleep(0.1)\n",
    "        robot.stop()\n",
    "controller.buttons[3].observe(left,names='value')\n",
    "def Stop(change):\n",
    "        robot.stop()\n",
    "controller.buttons[5].observe(Stop,names='value')\n",
    "\n",
    "image = widgets.Image(format='jpeg', width=300, height=300)\n",
    "#display(image)\n",
    "\n",
    "from jetbot import Camera\n",
    "camera = Camera.instance()\n",
    "\n",
    "from jetbot import bgr8_to_jpeg\n",
    "camera_link = traitlets.dlink((camera, 'value'), (image, 'value'), transform=bgr8_to_jpeg)\n",
    "\n",
    "from jetbot import Heartbeat\n",
    "def handle_heartbeat_status(change):\n",
    "    if change['new'] == Heartbeat.Status.dead:\n",
    "        camera_link.unlink()\n",
    "        left_link.unlink()\n",
    "        right_link.unlink()\n",
    "        robot.stop()\n",
    "heartbeat = Heartbeat(period=0.5)\n",
    " #attach the callback function to heartbeat status\n",
    "heartbeat.observe(handle_heartbeat_status, names='status')\n",
    "\n",
    "# only call this if your robot links were unlinked, otherwise we'll have redundant links which will double\n",
    "# the commands transferred\n",
    "#left_link = traitlets.dlink((controller.axes[1], 'value'), (robot.left_motor, 'value'), transform=lambda x: -x)\n",
    "#right_link = traitlets.dlink((controller.axes[3], 'value'), (robot.right_motor, 'value'), transform=lambda x: -x)\n",
    "#camera_link = traitlets.dlink((camera, 'value'), (image, 'value'), transform=bgr8_to_jpeg)\n",
    "\n",
    "import uuid\n",
    "import subprocess\n",
    "subprocess.call(['mkdir', '-p', 'snapshots'])\n",
    "snapshot_image = widgets.Image(format='jpeg', width=300, height=300)\n",
    "def save_snapshot(change):\n",
    "    # save snapshot when button is pressed down\n",
    "    if change['new']:\n",
    "        file_path = 'snapshots/' + str(uuid.uuid1()) + '.jpg'\n",
    "        \n",
    "        # write snapshot to file (we use image value instead of camera because it's already in JPEG format)\n",
    "        with open(file_path, 'wb') as f:\n",
    "            f.write(image.value)\n",
    "            \n",
    "        # display snapshot that was saved\n",
    "        snapshot_image.value = image.value\n",
    "controller.buttons[4].observe(save_snapshot, names='value')\n",
    "display(widgets.HBox([image, snapshot_image]))\n",
    "display(controller)\n",
    "#camera.stop()"
   ]
  },
  {
   "cell_type": "code",
   "execution_count": null,
   "metadata": {},
   "outputs": [],
   "source": [
    "camera.stop()"
   ]
  },
  {
   "cell_type": "code",
   "execution_count": null,
   "metadata": {},
   "outputs": [],
   "source": []
  }
 ],
 "metadata": {
  "kernelspec": {
   "display_name": "Python 3",
   "language": "python",
   "name": "python3"
  },
  "language_info": {
   "codemirror_mode": {
    "name": "ipython",
    "version": 3
   },
   "file_extension": ".py",
   "mimetype": "text/x-python",
   "name": "python",
   "nbconvert_exporter": "python",
   "pygments_lexer": "ipython3",
   "version": "3.6.9"
  }
 },
 "nbformat": 4,
 "nbformat_minor": 4
}
